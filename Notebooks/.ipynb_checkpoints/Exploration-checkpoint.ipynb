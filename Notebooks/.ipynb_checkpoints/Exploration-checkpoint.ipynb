{
 "cells": [
  {
   "cell_type": "code",
   "execution_count": 13,
   "metadata": {},
   "outputs": [],
   "source": [
    "import pandas as pd\n",
    "import numpy as np"
   ]
  },
  {
   "cell_type": "code",
   "execution_count": 14,
   "metadata": {},
   "outputs": [
    {
     "data": {
      "text/html": [
       "<div>\n",
       "<style>\n",
       "    .dataframe thead tr:only-child th {\n",
       "        text-align: right;\n",
       "    }\n",
       "\n",
       "    .dataframe thead th {\n",
       "        text-align: left;\n",
       "    }\n",
       "\n",
       "    .dataframe tbody tr th {\n",
       "        vertical-align: top;\n",
       "    }\n",
       "</style>\n",
       "<table border=\"1\" class=\"dataframe\">\n",
       "  <thead>\n",
       "    <tr style=\"text-align: right;\">\n",
       "      <th></th>\n",
       "      <th>frame</th>\n",
       "      <th>y</th>\n",
       "      <th>x</th>\n",
       "      <th>bottom</th>\n",
       "      <th>right</th>\n",
       "      <th>class</th>\n",
       "      <th>class_str</th>\n",
       "      <th>score</th>\n",
       "    </tr>\n",
       "  </thead>\n",
       "  <tbody>\n",
       "    <tr>\n",
       "      <th>0</th>\n",
       "      <td>1</td>\n",
       "      <td>0.469753</td>\n",
       "      <td>0.213566</td>\n",
       "      <td>0.859130</td>\n",
       "      <td>0.377952</td>\n",
       "      <td>1</td>\n",
       "      <td>person</td>\n",
       "      <td>0.634904</td>\n",
       "    </tr>\n",
       "    <tr>\n",
       "      <th>1</th>\n",
       "      <td>1</td>\n",
       "      <td>0.477770</td>\n",
       "      <td>0.511573</td>\n",
       "      <td>0.830581</td>\n",
       "      <td>0.618854</td>\n",
       "      <td>1</td>\n",
       "      <td>person</td>\n",
       "      <td>0.488014</td>\n",
       "    </tr>\n",
       "    <tr>\n",
       "      <th>2</th>\n",
       "      <td>1</td>\n",
       "      <td>0.434434</td>\n",
       "      <td>0.175959</td>\n",
       "      <td>0.880016</td>\n",
       "      <td>0.370472</td>\n",
       "      <td>19</td>\n",
       "      <td>horse</td>\n",
       "      <td>0.468769</td>\n",
       "    </tr>\n",
       "    <tr>\n",
       "      <th>3</th>\n",
       "      <td>1</td>\n",
       "      <td>0.474248</td>\n",
       "      <td>0.674294</td>\n",
       "      <td>0.884738</td>\n",
       "      <td>0.976516</td>\n",
       "      <td>1</td>\n",
       "      <td>person</td>\n",
       "      <td>0.354678</td>\n",
       "    </tr>\n",
       "    <tr>\n",
       "      <th>4</th>\n",
       "      <td>1</td>\n",
       "      <td>0.394428</td>\n",
       "      <td>0.061420</td>\n",
       "      <td>0.871114</td>\n",
       "      <td>0.270112</td>\n",
       "      <td>19</td>\n",
       "      <td>horse</td>\n",
       "      <td>0.342461</td>\n",
       "    </tr>\n",
       "  </tbody>\n",
       "</table>\n",
       "</div>"
      ],
      "text/plain": [
       "   frame         y         x    bottom     right  class class_str     score\n",
       "0      1  0.469753  0.213566  0.859130  0.377952      1    person  0.634904\n",
       "1      1  0.477770  0.511573  0.830581  0.618854      1    person  0.488014\n",
       "2      1  0.434434  0.175959  0.880016  0.370472     19     horse  0.468769\n",
       "3      1  0.474248  0.674294  0.884738  0.976516      1    person  0.354678\n",
       "4      1  0.394428  0.061420  0.871114  0.270112     19     horse  0.342461"
      ]
     },
     "execution_count": 14,
     "metadata": {},
     "output_type": "execute_result"
    }
   ],
   "source": [
    "df = pd.read_csv(\"../data/video_info.csv\")\n",
    "df.head()"
   ]
  },
  {
   "cell_type": "code",
   "execution_count": 85,
   "metadata": {},
   "outputs": [
    {
     "name": "stdout",
     "output_type": "stream",
     "text": [
      "0.001001119613647461\n"
     ]
    },
    {
     "data": {
      "text/plain": [
       "(7, 7)"
      ]
     },
     "execution_count": 85,
     "metadata": {},
     "output_type": "execute_result"
    }
   ],
   "source": [
    "import time\n",
    "\n",
    "classes_list = df[\"class_str\"].value_counts().index.tolist()\n",
    "\n",
    "t1 = time.time()\n",
    "\n",
    "# Gets the smallest value needed to add to the end of the classes list to get a square matrix\n",
    "root_round = round(np.sqrt(len(classes_list)))\n",
    "total_size = root_round ** 2\n",
    "padding_value = int(total_size - val)\n",
    "\n",
    "# Pad with that smallest value\n",
    "padded = np.pad(classes_list, (0, padding_value), mode='constant')\n",
    "\n",
    "reshaped = np.reshape(padded, (int(root_round), int(root_round)))\n",
    "\n",
    "t2 = time.time()\n",
    "\n",
    "print(t2-t1)\n",
    "\n",
    "reshaped.shape"
   ]
  },
  {
   "cell_type": "code",
   "execution_count": 24,
   "metadata": {
    "scrolled": true
   },
   "outputs": [],
   "source": [
    "classes_list= df[\"class_str\"].value_counts().index.tolist()"
   ]
  },
  {
   "cell_type": "code",
   "execution_count": 35,
   "metadata": {
    "scrolled": true
   },
   "outputs": [
    {
     "data": {
      "text/plain": [
       "array([['person', 'tv'],\n",
       "       ['airplane', 'dog'],\n",
       "       ['tie', 'bus'],\n",
       "       ['car', 'teddy bear'],\n",
       "       ['clock', 'chair'],\n",
       "       ['boat', 'keyboard'],\n",
       "       ['cell phone', 'umbrella'],\n",
       "       ['traffic light', 'backpack'],\n",
       "       ['bird', 'suitcase'],\n",
       "       ['remote', 'train'],\n",
       "       ['cup', 'truck'],\n",
       "       ['bed', 'kite'],\n",
       "       ['bottle', 'skis'],\n",
       "       ['cat', 'vase'],\n",
       "       ['horse', 'fire hydrant'],\n",
       "       ['potted plant', 'parking meter'],\n",
       "       ['surfboard', 'handbag'],\n",
       "       ['snowboard', 'bicycle'],\n",
       "       ['motorcycle', 'laptop'],\n",
       "       ['couch', 'sink'],\n",
       "       ['wine glass', 'baseball glove'],\n",
       "       ['sports ball', 'mouse'],\n",
       "       ['bench', 'tennis racket']], dtype='<U14')"
      ]
     },
     "execution_count": 35,
     "metadata": {},
     "output_type": "execute_result"
    }
   ],
   "source": [
    "array = np.array(classes_list)\n",
    "np.reshape(array, (-1, 2))"
   ]
  },
  {
   "cell_type": "code",
   "execution_count": 236,
   "metadata": {},
   "outputs": [
    {
     "data": {
      "text/html": [
       "<script>requirejs.config({paths: { 'plotly': ['https://cdn.plot.ly/plotly-latest.min']},});if(!window.Plotly) {{require(['plotly'],function(plotly) {window.Plotly=plotly;});}}</script>"
      ],
      "text/vnd.plotly.v1+html": [
       "<script>requirejs.config({paths: { 'plotly': ['https://cdn.plot.ly/plotly-latest.min']},});if(!window.Plotly) {{require(['plotly'],function(plotly) {window.Plotly=plotly;});}}</script>"
      ]
     },
     "metadata": {},
     "output_type": "display_data"
    },
    {
     "data": {
      "application/vnd.plotly.v1+json": {
       "data": [
        {
         "colorscale": [
          [
           0,
           "#ffffff"
          ],
          [
           1,
           "#f71111"
          ]
         ],
         "hoverinfo": "text",
         "showscale": false,
         "text": [
          [
           28.536980937889567,
           59.796028161953295,
           62.43893627432169,
           94.56604776653779,
           52.56711683060714,
           51.274859920254215,
           100
          ],
          [
           64.1293705135078,
           84.84874246442094,
           55.442547067764494,
           4.555912195388833,
           97.55650462643699,
           79.29841425632482,
           80
          ],
          [
           90.09769289875813,
           65.53663266659593,
           20.35147357089717,
           15.858488941594661,
           55.439181081404186,
           68.23207709212407,
           60
          ],
          [
           46.69070464338599,
           33.19085875589914,
           91.98252494365654,
           19.587846563739543,
           5.425456483974489,
           69.46995600372189,
           40
          ],
          [
           85.426880762353,
           90.00973768276913,
           71.15643742398015,
           83.07844104076614,
           7.197524651598785,
           17.962781834590512,
           20
          ],
          [
           59.16547527731585,
           9.053026102916162,
           66.09691650920524,
           10.255168262841652,
           54.93694212925032,
           39.05137484676149,
           5
          ],
          [
           72.30361502017453,
           49.17751794238981,
           38.89250771162991,
           13.405953842742536,
           79.90500935253777,
           76.503631717848,
           0
          ]
         ],
         "type": "heatmap",
         "z": [
          [
           0,
           0,
           0,
           0,
           0,
           0,
           0
          ],
          [
           0,
           0,
           0,
           0,
           0,
           0,
           0
          ],
          [
           0,
           0,
           0,
           0,
           0,
           0,
           0
          ],
          [
           0,
           0,
           0,
           0,
           0.27422008,
           0,
           0
          ],
          [
           0,
           0,
           0,
           0,
           0,
           0,
           0
          ],
          [
           0,
           0,
           0,
           0,
           0,
           0,
           0
          ],
          [
           0.6842550000000001,
           0,
           0,
           0.21371260000000003,
           0,
           0,
           0
          ]
         ]
        }
       ],
       "layout": {
        "annotations": [
         {
          "font": {
           "color": "#3c3636"
          },
          "showarrow": false,
          "text": "sports ball",
          "x": 0,
          "xref": "x1",
          "y": 0,
          "yref": "y1"
         },
         {
          "font": {
           "color": "#3c3636"
          },
          "showarrow": false,
          "text": "mouse",
          "x": 1,
          "xref": "x1",
          "y": 0,
          "yref": "y1"
         },
         {
          "font": {
           "color": "#3c3636"
          },
          "showarrow": false,
          "text": "bench",
          "x": 2,
          "xref": "x1",
          "y": 0,
          "yref": "y1"
         },
         {
          "font": {
           "color": "#3c3636"
          },
          "showarrow": false,
          "text": "tennis racket",
          "x": 3,
          "xref": "x1",
          "y": 0,
          "yref": "y1"
         },
         {
          "font": {
           "color": "#3c3636"
          },
          "showarrow": false,
          "text": "",
          "x": 4,
          "xref": "x1",
          "y": 0,
          "yref": "y1"
         },
         {
          "font": {
           "color": "#3c3636"
          },
          "showarrow": false,
          "text": "",
          "x": 5,
          "xref": "x1",
          "y": 0,
          "yref": "y1"
         },
         {
          "font": {
           "color": "#3c3636"
          },
          "showarrow": false,
          "text": "",
          "x": 6,
          "xref": "x1",
          "y": 0,
          "yref": "y1"
         },
         {
          "font": {
           "color": "#3c3636"
          },
          "showarrow": false,
          "text": "bicycle",
          "x": 0,
          "xref": "x1",
          "y": 1,
          "yref": "y1"
         },
         {
          "font": {
           "color": "#3c3636"
          },
          "showarrow": false,
          "text": "motorcycle",
          "x": 1,
          "xref": "x1",
          "y": 1,
          "yref": "y1"
         },
         {
          "font": {
           "color": "#3c3636"
          },
          "showarrow": false,
          "text": "laptop",
          "x": 2,
          "xref": "x1",
          "y": 1,
          "yref": "y1"
         },
         {
          "font": {
           "color": "#3c3636"
          },
          "showarrow": false,
          "text": "couch",
          "x": 3,
          "xref": "x1",
          "y": 1,
          "yref": "y1"
         },
         {
          "font": {
           "color": "#3c3636"
          },
          "showarrow": false,
          "text": "sink",
          "x": 4,
          "xref": "x1",
          "y": 1,
          "yref": "y1"
         },
         {
          "font": {
           "color": "#3c3636"
          },
          "showarrow": false,
          "text": "wine glass",
          "x": 5,
          "xref": "x1",
          "y": 1,
          "yref": "y1"
         },
         {
          "font": {
           "color": "#3c3636"
          },
          "showarrow": false,
          "text": "baseball glove",
          "x": 6,
          "xref": "x1",
          "y": 1,
          "yref": "y1"
         },
         {
          "font": {
           "color": "#3c3636"
          },
          "showarrow": false,
          "text": "horse",
          "x": 0,
          "xref": "x1",
          "y": 2,
          "yref": "y1"
         },
         {
          "font": {
           "color": "#3c3636"
          },
          "showarrow": false,
          "text": "fire hydrant",
          "x": 1,
          "xref": "x1",
          "y": 2,
          "yref": "y1"
         },
         {
          "font": {
           "color": "#3c3636"
          },
          "showarrow": false,
          "text": "potted plant",
          "x": 2,
          "xref": "x1",
          "y": 2,
          "yref": "y1"
         },
         {
          "font": {
           "color": "#3c3636"
          },
          "showarrow": false,
          "text": "parking meter",
          "x": 3,
          "xref": "x1",
          "y": 2,
          "yref": "y1"
         },
         {
          "font": {
           "color": "#3c3636"
          },
          "showarrow": false,
          "text": "surfboard",
          "x": 4,
          "xref": "x1",
          "y": 2,
          "yref": "y1"
         },
         {
          "font": {
           "color": "#3c3636"
          },
          "showarrow": false,
          "text": "handbag",
          "x": 5,
          "xref": "x1",
          "y": 2,
          "yref": "y1"
         },
         {
          "font": {
           "color": "#3c3636"
          },
          "showarrow": false,
          "text": "snowboard",
          "x": 6,
          "xref": "x1",
          "y": 2,
          "yref": "y1"
         },
         {
          "font": {
           "color": "#3c3636"
          },
          "showarrow": false,
          "text": "truck",
          "x": 0,
          "xref": "x1",
          "y": 3,
          "yref": "y1"
         },
         {
          "font": {
           "color": "#3c3636"
          },
          "showarrow": false,
          "text": "bed",
          "x": 1,
          "xref": "x1",
          "y": 3,
          "yref": "y1"
         },
         {
          "font": {
           "color": "#3c3636"
          },
          "showarrow": false,
          "text": "kite",
          "x": 2,
          "xref": "x1",
          "y": 3,
          "yref": "y1"
         },
         {
          "font": {
           "color": "#3c3636"
          },
          "showarrow": false,
          "text": "bottle",
          "x": 3,
          "xref": "x1",
          "y": 3,
          "yref": "y1"
         },
         {
          "font": {
           "color": "#3c3636"
          },
          "showarrow": false,
          "text": "skis",
          "x": 4,
          "xref": "x1",
          "y": 3,
          "yref": "y1"
         },
         {
          "font": {
           "color": "#3c3636"
          },
          "showarrow": false,
          "text": "cat",
          "x": 5,
          "xref": "x1",
          "y": 3,
          "yref": "y1"
         },
         {
          "font": {
           "color": "#3c3636"
          },
          "showarrow": false,
          "text": "vase",
          "x": 6,
          "xref": "x1",
          "y": 3,
          "yref": "y1"
         },
         {
          "font": {
           "color": "#3c3636"
          },
          "showarrow": false,
          "text": "traffic light",
          "x": 0,
          "xref": "x1",
          "y": 4,
          "yref": "y1"
         },
         {
          "font": {
           "color": "#3c3636"
          },
          "showarrow": false,
          "text": "backpack",
          "x": 1,
          "xref": "x1",
          "y": 4,
          "yref": "y1"
         },
         {
          "font": {
           "color": "#3c3636"
          },
          "showarrow": false,
          "text": "bird",
          "x": 2,
          "xref": "x1",
          "y": 4,
          "yref": "y1"
         },
         {
          "font": {
           "color": "#3c3636"
          },
          "showarrow": false,
          "text": "suitcase",
          "x": 3,
          "xref": "x1",
          "y": 4,
          "yref": "y1"
         },
         {
          "font": {
           "color": "#3c3636"
          },
          "showarrow": false,
          "text": "remote",
          "x": 4,
          "xref": "x1",
          "y": 4,
          "yref": "y1"
         },
         {
          "font": {
           "color": "#3c3636"
          },
          "showarrow": false,
          "text": "train",
          "x": 5,
          "xref": "x1",
          "y": 4,
          "yref": "y1"
         },
         {
          "font": {
           "color": "#3c3636"
          },
          "showarrow": false,
          "text": "cup",
          "x": 6,
          "xref": "x1",
          "y": 4,
          "yref": "y1"
         },
         {
          "font": {
           "color": "#3c3636"
          },
          "showarrow": false,
          "text": "teddy bear",
          "x": 0,
          "xref": "x1",
          "y": 5,
          "yref": "y1"
         },
         {
          "font": {
           "color": "#3c3636"
          },
          "showarrow": false,
          "text": "clock",
          "x": 1,
          "xref": "x1",
          "y": 5,
          "yref": "y1"
         },
         {
          "font": {
           "color": "#3c3636"
          },
          "showarrow": false,
          "text": "chair",
          "x": 2,
          "xref": "x1",
          "y": 5,
          "yref": "y1"
         },
         {
          "font": {
           "color": "#3c3636"
          },
          "showarrow": false,
          "text": "boat",
          "x": 3,
          "xref": "x1",
          "y": 5,
          "yref": "y1"
         },
         {
          "font": {
           "color": "#3c3636"
          },
          "showarrow": false,
          "text": "keyboard",
          "x": 4,
          "xref": "x1",
          "y": 5,
          "yref": "y1"
         },
         {
          "font": {
           "color": "#3c3636"
          },
          "showarrow": false,
          "text": "cell phone",
          "x": 5,
          "xref": "x1",
          "y": 5,
          "yref": "y1"
         },
         {
          "font": {
           "color": "#3c3636"
          },
          "showarrow": false,
          "text": "umbrella",
          "x": 6,
          "xref": "x1",
          "y": 5,
          "yref": "y1"
         },
         {
          "font": {
           "color": "#efecee"
          },
          "showarrow": false,
          "text": "person",
          "x": 0,
          "xref": "x1",
          "y": 6,
          "yref": "y1"
         },
         {
          "font": {
           "color": "#3c3636"
          },
          "showarrow": false,
          "text": "tv",
          "x": 1,
          "xref": "x1",
          "y": 6,
          "yref": "y1"
         },
         {
          "font": {
           "color": "#3c3636"
          },
          "showarrow": false,
          "text": "airplane",
          "x": 2,
          "xref": "x1",
          "y": 6,
          "yref": "y1"
         },
         {
          "font": {
           "color": "#3c3636"
          },
          "showarrow": false,
          "text": "dog",
          "x": 3,
          "xref": "x1",
          "y": 6,
          "yref": "y1"
         },
         {
          "font": {
           "color": "#3c3636"
          },
          "showarrow": false,
          "text": "tie",
          "x": 4,
          "xref": "x1",
          "y": 6,
          "yref": "y1"
         },
         {
          "font": {
           "color": "#3c3636"
          },
          "showarrow": false,
          "text": "bus",
          "x": 5,
          "xref": "x1",
          "y": 6,
          "yref": "y1"
         },
         {
          "font": {
           "color": "#3c3636"
          },
          "showarrow": false,
          "text": "car",
          "x": 6,
          "xref": "x1",
          "y": 6,
          "yref": "y1"
         }
        ],
        "title": "Confidence Heatmap",
        "xaxis": {
         "gridcolor": "rgb(0, 0, 0)",
         "showticklabels": false,
         "side": "top",
         "ticks": ""
        },
        "yaxis": {
         "showticklabels": false,
         "ticks": "",
         "ticksuffix": "  "
        }
       }
      },
      "text/html": [
       "<div id=\"6dc06b84-7d80-4e53-94cf-4c00aaf2f698\" style=\"height: 525px; width: 100%;\" class=\"plotly-graph-div\"></div><script type=\"text/javascript\">require([\"plotly\"], function(Plotly) { window.PLOTLYENV=window.PLOTLYENV || {};window.PLOTLYENV.BASE_URL=\"https://plot.ly\";Plotly.newPlot(\"6dc06b84-7d80-4e53-94cf-4c00aaf2f698\", [{\"type\": \"heatmap\", \"z\": [[0.0, 0.0, 0.0, 0.0, 0.0, 0.0, 0.0], [0.0, 0.0, 0.0, 0.0, 0.0, 0.0, 0.0], [0.0, 0.0, 0.0, 0.0, 0.0, 0.0, 0.0], [0.0, 0.0, 0.0, 0.0, 0.27422008, 0.0, 0.0], [0.0, 0.0, 0.0, 0.0, 0.0, 0.0, 0.0], [0.0, 0.0, 0.0, 0.0, 0.0, 0.0, 0.0], [0.6842550000000001, 0.0, 0.0, 0.21371260000000003, 0.0, 0.0, 0.0]], \"colorscale\": [[0, \"#ffffff\"], [1, \"#f71111\"]], \"showscale\": false, \"hoverinfo\": \"text\", \"text\": [[28.536980937889567, 59.796028161953295, 62.43893627432169, 94.56604776653779, 52.56711683060714, 51.274859920254215, 100.0], [64.1293705135078, 84.84874246442094, 55.442547067764494, 4.555912195388833, 97.55650462643699, 79.29841425632482, 80.0], [90.09769289875813, 65.53663266659593, 20.35147357089717, 15.858488941594661, 55.439181081404186, 68.23207709212407, 60.0], [46.69070464338599, 33.19085875589914, 91.98252494365654, 19.587846563739543, 5.425456483974489, 69.46995600372189, 40.0], [85.426880762353, 90.00973768276913, 71.15643742398015, 83.07844104076614, 7.197524651598785, 17.962781834590512, 20.0], [59.16547527731585, 9.053026102916162, 66.09691650920524, 10.255168262841652, 54.93694212925032, 39.05137484676149, 5.0], [72.30361502017453, 49.17751794238981, 38.89250771162991, 13.405953842742536, 79.90500935253777, 76.503631717848, 0.0]]}], {\"annotations\": [{\"text\": \"sports ball\", \"x\": 0, \"y\": 0, \"xref\": \"x1\", \"yref\": \"y1\", \"font\": {\"color\": \"#3c3636\"}, \"showarrow\": false}, {\"text\": \"mouse\", \"x\": 1, \"y\": 0, \"xref\": \"x1\", \"yref\": \"y1\", \"font\": {\"color\": \"#3c3636\"}, \"showarrow\": false}, {\"text\": \"bench\", \"x\": 2, \"y\": 0, \"xref\": \"x1\", \"yref\": \"y1\", \"font\": {\"color\": \"#3c3636\"}, \"showarrow\": false}, {\"text\": \"tennis racket\", \"x\": 3, \"y\": 0, \"xref\": \"x1\", \"yref\": \"y1\", \"font\": {\"color\": \"#3c3636\"}, \"showarrow\": false}, {\"text\": \"\", \"x\": 4, \"y\": 0, \"xref\": \"x1\", \"yref\": \"y1\", \"font\": {\"color\": \"#3c3636\"}, \"showarrow\": false}, {\"text\": \"\", \"x\": 5, \"y\": 0, \"xref\": \"x1\", \"yref\": \"y1\", \"font\": {\"color\": \"#3c3636\"}, \"showarrow\": false}, {\"text\": \"\", \"x\": 6, \"y\": 0, \"xref\": \"x1\", \"yref\": \"y1\", \"font\": {\"color\": \"#3c3636\"}, \"showarrow\": false}, {\"text\": \"bicycle\", \"x\": 0, \"y\": 1, \"xref\": \"x1\", \"yref\": \"y1\", \"font\": {\"color\": \"#3c3636\"}, \"showarrow\": false}, {\"text\": \"motorcycle\", \"x\": 1, \"y\": 1, \"xref\": \"x1\", \"yref\": \"y1\", \"font\": {\"color\": \"#3c3636\"}, \"showarrow\": false}, {\"text\": \"laptop\", \"x\": 2, \"y\": 1, \"xref\": \"x1\", \"yref\": \"y1\", \"font\": {\"color\": \"#3c3636\"}, \"showarrow\": false}, {\"text\": \"couch\", \"x\": 3, \"y\": 1, \"xref\": \"x1\", \"yref\": \"y1\", \"font\": {\"color\": \"#3c3636\"}, \"showarrow\": false}, {\"text\": \"sink\", \"x\": 4, \"y\": 1, \"xref\": \"x1\", \"yref\": \"y1\", \"font\": {\"color\": \"#3c3636\"}, \"showarrow\": false}, {\"text\": \"wine glass\", \"x\": 5, \"y\": 1, \"xref\": \"x1\", \"yref\": \"y1\", \"font\": {\"color\": \"#3c3636\"}, \"showarrow\": false}, {\"text\": \"baseball glove\", \"x\": 6, \"y\": 1, \"xref\": \"x1\", \"yref\": \"y1\", \"font\": {\"color\": \"#3c3636\"}, \"showarrow\": false}, {\"text\": \"horse\", \"x\": 0, \"y\": 2, \"xref\": \"x1\", \"yref\": \"y1\", \"font\": {\"color\": \"#3c3636\"}, \"showarrow\": false}, {\"text\": \"fire hydrant\", \"x\": 1, \"y\": 2, \"xref\": \"x1\", \"yref\": \"y1\", \"font\": {\"color\": \"#3c3636\"}, \"showarrow\": false}, {\"text\": \"potted plant\", \"x\": 2, \"y\": 2, \"xref\": \"x1\", \"yref\": \"y1\", \"font\": {\"color\": \"#3c3636\"}, \"showarrow\": false}, {\"text\": \"parking meter\", \"x\": 3, \"y\": 2, \"xref\": \"x1\", \"yref\": \"y1\", \"font\": {\"color\": \"#3c3636\"}, \"showarrow\": false}, {\"text\": \"surfboard\", \"x\": 4, \"y\": 2, \"xref\": \"x1\", \"yref\": \"y1\", \"font\": {\"color\": \"#3c3636\"}, \"showarrow\": false}, {\"text\": \"handbag\", \"x\": 5, \"y\": 2, \"xref\": \"x1\", \"yref\": \"y1\", \"font\": {\"color\": \"#3c3636\"}, \"showarrow\": false}, {\"text\": \"snowboard\", \"x\": 6, \"y\": 2, \"xref\": \"x1\", \"yref\": \"y1\", \"font\": {\"color\": \"#3c3636\"}, \"showarrow\": false}, {\"text\": \"truck\", \"x\": 0, \"y\": 3, \"xref\": \"x1\", \"yref\": \"y1\", \"font\": {\"color\": \"#3c3636\"}, \"showarrow\": false}, {\"text\": \"bed\", \"x\": 1, \"y\": 3, \"xref\": \"x1\", \"yref\": \"y1\", \"font\": {\"color\": \"#3c3636\"}, \"showarrow\": false}, {\"text\": \"kite\", \"x\": 2, \"y\": 3, \"xref\": \"x1\", \"yref\": \"y1\", \"font\": {\"color\": \"#3c3636\"}, \"showarrow\": false}, {\"text\": \"bottle\", \"x\": 3, \"y\": 3, \"xref\": \"x1\", \"yref\": \"y1\", \"font\": {\"color\": \"#3c3636\"}, \"showarrow\": false}, {\"text\": \"skis\", \"x\": 4, \"y\": 3, \"xref\": \"x1\", \"yref\": \"y1\", \"font\": {\"color\": \"#3c3636\"}, \"showarrow\": false}, {\"text\": \"cat\", \"x\": 5, \"y\": 3, \"xref\": \"x1\", \"yref\": \"y1\", \"font\": {\"color\": \"#3c3636\"}, \"showarrow\": false}, {\"text\": \"vase\", \"x\": 6, \"y\": 3, \"xref\": \"x1\", \"yref\": \"y1\", \"font\": {\"color\": \"#3c3636\"}, \"showarrow\": false}, {\"text\": \"traffic light\", \"x\": 0, \"y\": 4, \"xref\": \"x1\", \"yref\": \"y1\", \"font\": {\"color\": \"#3c3636\"}, \"showarrow\": false}, {\"text\": \"backpack\", \"x\": 1, \"y\": 4, \"xref\": \"x1\", \"yref\": \"y1\", \"font\": {\"color\": \"#3c3636\"}, \"showarrow\": false}, {\"text\": \"bird\", \"x\": 2, \"y\": 4, \"xref\": \"x1\", \"yref\": \"y1\", \"font\": {\"color\": \"#3c3636\"}, \"showarrow\": false}, {\"text\": \"suitcase\", \"x\": 3, \"y\": 4, \"xref\": \"x1\", \"yref\": \"y1\", \"font\": {\"color\": \"#3c3636\"}, \"showarrow\": false}, {\"text\": \"remote\", \"x\": 4, \"y\": 4, \"xref\": \"x1\", \"yref\": \"y1\", \"font\": {\"color\": \"#3c3636\"}, \"showarrow\": false}, {\"text\": \"train\", \"x\": 5, \"y\": 4, \"xref\": \"x1\", \"yref\": \"y1\", \"font\": {\"color\": \"#3c3636\"}, \"showarrow\": false}, {\"text\": \"cup\", \"x\": 6, \"y\": 4, \"xref\": \"x1\", \"yref\": \"y1\", \"font\": {\"color\": \"#3c3636\"}, \"showarrow\": false}, {\"text\": \"teddy bear\", \"x\": 0, \"y\": 5, \"xref\": \"x1\", \"yref\": \"y1\", \"font\": {\"color\": \"#3c3636\"}, \"showarrow\": false}, {\"text\": \"clock\", \"x\": 1, \"y\": 5, \"xref\": \"x1\", \"yref\": \"y1\", \"font\": {\"color\": \"#3c3636\"}, \"showarrow\": false}, {\"text\": \"chair\", \"x\": 2, \"y\": 5, \"xref\": \"x1\", \"yref\": \"y1\", \"font\": {\"color\": \"#3c3636\"}, \"showarrow\": false}, {\"text\": \"boat\", \"x\": 3, \"y\": 5, \"xref\": \"x1\", \"yref\": \"y1\", \"font\": {\"color\": \"#3c3636\"}, \"showarrow\": false}, {\"text\": \"keyboard\", \"x\": 4, \"y\": 5, \"xref\": \"x1\", \"yref\": \"y1\", \"font\": {\"color\": \"#3c3636\"}, \"showarrow\": false}, {\"text\": \"cell phone\", \"x\": 5, \"y\": 5, \"xref\": \"x1\", \"yref\": \"y1\", \"font\": {\"color\": \"#3c3636\"}, \"showarrow\": false}, {\"text\": \"umbrella\", \"x\": 6, \"y\": 5, \"xref\": \"x1\", \"yref\": \"y1\", \"font\": {\"color\": \"#3c3636\"}, \"showarrow\": false}, {\"text\": \"person\", \"x\": 0, \"y\": 6, \"xref\": \"x1\", \"yref\": \"y1\", \"font\": {\"color\": \"#efecee\"}, \"showarrow\": false}, {\"text\": \"tv\", \"x\": 1, \"y\": 6, \"xref\": \"x1\", \"yref\": \"y1\", \"font\": {\"color\": \"#3c3636\"}, \"showarrow\": false}, {\"text\": \"airplane\", \"x\": 2, \"y\": 6, \"xref\": \"x1\", \"yref\": \"y1\", \"font\": {\"color\": \"#3c3636\"}, \"showarrow\": false}, {\"text\": \"dog\", \"x\": 3, \"y\": 6, \"xref\": \"x1\", \"yref\": \"y1\", \"font\": {\"color\": \"#3c3636\"}, \"showarrow\": false}, {\"text\": \"tie\", \"x\": 4, \"y\": 6, \"xref\": \"x1\", \"yref\": \"y1\", \"font\": {\"color\": \"#3c3636\"}, \"showarrow\": false}, {\"text\": \"bus\", \"x\": 5, \"y\": 6, \"xref\": \"x1\", \"yref\": \"y1\", \"font\": {\"color\": \"#3c3636\"}, \"showarrow\": false}, {\"text\": \"car\", \"x\": 6, \"y\": 6, \"xref\": \"x1\", \"yref\": \"y1\", \"font\": {\"color\": \"#3c3636\"}, \"showarrow\": false}], \"xaxis\": {\"ticks\": \"\", \"side\": \"top\", \"gridcolor\": \"rgb(0, 0, 0)\", \"showticklabels\": false}, \"yaxis\": {\"ticks\": \"\", \"ticksuffix\": \"  \", \"showticklabels\": false}, \"title\": \"Confidence Heatmap\"}, {\"showLink\": true, \"linkText\": \"Export to plot.ly\"})});</script>"
      ],
      "text/vnd.plotly.v1+html": [
       "<div id=\"6dc06b84-7d80-4e53-94cf-4c00aaf2f698\" style=\"height: 525px; width: 100%;\" class=\"plotly-graph-div\"></div><script type=\"text/javascript\">require([\"plotly\"], function(Plotly) { window.PLOTLYENV=window.PLOTLYENV || {};window.PLOTLYENV.BASE_URL=\"https://plot.ly\";Plotly.newPlot(\"6dc06b84-7d80-4e53-94cf-4c00aaf2f698\", [{\"type\": \"heatmap\", \"z\": [[0.0, 0.0, 0.0, 0.0, 0.0, 0.0, 0.0], [0.0, 0.0, 0.0, 0.0, 0.0, 0.0, 0.0], [0.0, 0.0, 0.0, 0.0, 0.0, 0.0, 0.0], [0.0, 0.0, 0.0, 0.0, 0.27422008, 0.0, 0.0], [0.0, 0.0, 0.0, 0.0, 0.0, 0.0, 0.0], [0.0, 0.0, 0.0, 0.0, 0.0, 0.0, 0.0], [0.6842550000000001, 0.0, 0.0, 0.21371260000000003, 0.0, 0.0, 0.0]], \"colorscale\": [[0, \"#ffffff\"], [1, \"#f71111\"]], \"showscale\": false, \"hoverinfo\": \"text\", \"text\": [[28.536980937889567, 59.796028161953295, 62.43893627432169, 94.56604776653779, 52.56711683060714, 51.274859920254215, 100.0], [64.1293705135078, 84.84874246442094, 55.442547067764494, 4.555912195388833, 97.55650462643699, 79.29841425632482, 80.0], [90.09769289875813, 65.53663266659593, 20.35147357089717, 15.858488941594661, 55.439181081404186, 68.23207709212407, 60.0], [46.69070464338599, 33.19085875589914, 91.98252494365654, 19.587846563739543, 5.425456483974489, 69.46995600372189, 40.0], [85.426880762353, 90.00973768276913, 71.15643742398015, 83.07844104076614, 7.197524651598785, 17.962781834590512, 20.0], [59.16547527731585, 9.053026102916162, 66.09691650920524, 10.255168262841652, 54.93694212925032, 39.05137484676149, 5.0], [72.30361502017453, 49.17751794238981, 38.89250771162991, 13.405953842742536, 79.90500935253777, 76.503631717848, 0.0]]}], {\"annotations\": [{\"text\": \"sports ball\", \"x\": 0, \"y\": 0, \"xref\": \"x1\", \"yref\": \"y1\", \"font\": {\"color\": \"#3c3636\"}, \"showarrow\": false}, {\"text\": \"mouse\", \"x\": 1, \"y\": 0, \"xref\": \"x1\", \"yref\": \"y1\", \"font\": {\"color\": \"#3c3636\"}, \"showarrow\": false}, {\"text\": \"bench\", \"x\": 2, \"y\": 0, \"xref\": \"x1\", \"yref\": \"y1\", \"font\": {\"color\": \"#3c3636\"}, \"showarrow\": false}, {\"text\": \"tennis racket\", \"x\": 3, \"y\": 0, \"xref\": \"x1\", \"yref\": \"y1\", \"font\": {\"color\": \"#3c3636\"}, \"showarrow\": false}, {\"text\": \"\", \"x\": 4, \"y\": 0, \"xref\": \"x1\", \"yref\": \"y1\", \"font\": {\"color\": \"#3c3636\"}, \"showarrow\": false}, {\"text\": \"\", \"x\": 5, \"y\": 0, \"xref\": \"x1\", \"yref\": \"y1\", \"font\": {\"color\": \"#3c3636\"}, \"showarrow\": false}, {\"text\": \"\", \"x\": 6, \"y\": 0, \"xref\": \"x1\", \"yref\": \"y1\", \"font\": {\"color\": \"#3c3636\"}, \"showarrow\": false}, {\"text\": \"bicycle\", \"x\": 0, \"y\": 1, \"xref\": \"x1\", \"yref\": \"y1\", \"font\": {\"color\": \"#3c3636\"}, \"showarrow\": false}, {\"text\": \"motorcycle\", \"x\": 1, \"y\": 1, \"xref\": \"x1\", \"yref\": \"y1\", \"font\": {\"color\": \"#3c3636\"}, \"showarrow\": false}, {\"text\": \"laptop\", \"x\": 2, \"y\": 1, \"xref\": \"x1\", \"yref\": \"y1\", \"font\": {\"color\": \"#3c3636\"}, \"showarrow\": false}, {\"text\": \"couch\", \"x\": 3, \"y\": 1, \"xref\": \"x1\", \"yref\": \"y1\", \"font\": {\"color\": \"#3c3636\"}, \"showarrow\": false}, {\"text\": \"sink\", \"x\": 4, \"y\": 1, \"xref\": \"x1\", \"yref\": \"y1\", \"font\": {\"color\": \"#3c3636\"}, \"showarrow\": false}, {\"text\": \"wine glass\", \"x\": 5, \"y\": 1, \"xref\": \"x1\", \"yref\": \"y1\", \"font\": {\"color\": \"#3c3636\"}, \"showarrow\": false}, {\"text\": \"baseball glove\", \"x\": 6, \"y\": 1, \"xref\": \"x1\", \"yref\": \"y1\", \"font\": {\"color\": \"#3c3636\"}, \"showarrow\": false}, {\"text\": \"horse\", \"x\": 0, \"y\": 2, \"xref\": \"x1\", \"yref\": \"y1\", \"font\": {\"color\": \"#3c3636\"}, \"showarrow\": false}, {\"text\": \"fire hydrant\", \"x\": 1, \"y\": 2, \"xref\": \"x1\", \"yref\": \"y1\", \"font\": {\"color\": \"#3c3636\"}, \"showarrow\": false}, {\"text\": \"potted plant\", \"x\": 2, \"y\": 2, \"xref\": \"x1\", \"yref\": \"y1\", \"font\": {\"color\": \"#3c3636\"}, \"showarrow\": false}, {\"text\": \"parking meter\", \"x\": 3, \"y\": 2, \"xref\": \"x1\", \"yref\": \"y1\", \"font\": {\"color\": \"#3c3636\"}, \"showarrow\": false}, {\"text\": \"surfboard\", \"x\": 4, \"y\": 2, \"xref\": \"x1\", \"yref\": \"y1\", \"font\": {\"color\": \"#3c3636\"}, \"showarrow\": false}, {\"text\": \"handbag\", \"x\": 5, \"y\": 2, \"xref\": \"x1\", \"yref\": \"y1\", \"font\": {\"color\": \"#3c3636\"}, \"showarrow\": false}, {\"text\": \"snowboard\", \"x\": 6, \"y\": 2, \"xref\": \"x1\", \"yref\": \"y1\", \"font\": {\"color\": \"#3c3636\"}, \"showarrow\": false}, {\"text\": \"truck\", \"x\": 0, \"y\": 3, \"xref\": \"x1\", \"yref\": \"y1\", \"font\": {\"color\": \"#3c3636\"}, \"showarrow\": false}, {\"text\": \"bed\", \"x\": 1, \"y\": 3, \"xref\": \"x1\", \"yref\": \"y1\", \"font\": {\"color\": \"#3c3636\"}, \"showarrow\": false}, {\"text\": \"kite\", \"x\": 2, \"y\": 3, \"xref\": \"x1\", \"yref\": \"y1\", \"font\": {\"color\": \"#3c3636\"}, \"showarrow\": false}, {\"text\": \"bottle\", \"x\": 3, \"y\": 3, \"xref\": \"x1\", \"yref\": \"y1\", \"font\": {\"color\": \"#3c3636\"}, \"showarrow\": false}, {\"text\": \"skis\", \"x\": 4, \"y\": 3, \"xref\": \"x1\", \"yref\": \"y1\", \"font\": {\"color\": \"#3c3636\"}, \"showarrow\": false}, {\"text\": \"cat\", \"x\": 5, \"y\": 3, \"xref\": \"x1\", \"yref\": \"y1\", \"font\": {\"color\": \"#3c3636\"}, \"showarrow\": false}, {\"text\": \"vase\", \"x\": 6, \"y\": 3, \"xref\": \"x1\", \"yref\": \"y1\", \"font\": {\"color\": \"#3c3636\"}, \"showarrow\": false}, {\"text\": \"traffic light\", \"x\": 0, \"y\": 4, \"xref\": \"x1\", \"yref\": \"y1\", \"font\": {\"color\": \"#3c3636\"}, \"showarrow\": false}, {\"text\": \"backpack\", \"x\": 1, \"y\": 4, \"xref\": \"x1\", \"yref\": \"y1\", \"font\": {\"color\": \"#3c3636\"}, \"showarrow\": false}, {\"text\": \"bird\", \"x\": 2, \"y\": 4, \"xref\": \"x1\", \"yref\": \"y1\", \"font\": {\"color\": \"#3c3636\"}, \"showarrow\": false}, {\"text\": \"suitcase\", \"x\": 3, \"y\": 4, \"xref\": \"x1\", \"yref\": \"y1\", \"font\": {\"color\": \"#3c3636\"}, \"showarrow\": false}, {\"text\": \"remote\", \"x\": 4, \"y\": 4, \"xref\": \"x1\", \"yref\": \"y1\", \"font\": {\"color\": \"#3c3636\"}, \"showarrow\": false}, {\"text\": \"train\", \"x\": 5, \"y\": 4, \"xref\": \"x1\", \"yref\": \"y1\", \"font\": {\"color\": \"#3c3636\"}, \"showarrow\": false}, {\"text\": \"cup\", \"x\": 6, \"y\": 4, \"xref\": \"x1\", \"yref\": \"y1\", \"font\": {\"color\": \"#3c3636\"}, \"showarrow\": false}, {\"text\": \"teddy bear\", \"x\": 0, \"y\": 5, \"xref\": \"x1\", \"yref\": \"y1\", \"font\": {\"color\": \"#3c3636\"}, \"showarrow\": false}, {\"text\": \"clock\", \"x\": 1, \"y\": 5, \"xref\": \"x1\", \"yref\": \"y1\", \"font\": {\"color\": \"#3c3636\"}, \"showarrow\": false}, {\"text\": \"chair\", \"x\": 2, \"y\": 5, \"xref\": \"x1\", \"yref\": \"y1\", \"font\": {\"color\": \"#3c3636\"}, \"showarrow\": false}, {\"text\": \"boat\", \"x\": 3, \"y\": 5, \"xref\": \"x1\", \"yref\": \"y1\", \"font\": {\"color\": \"#3c3636\"}, \"showarrow\": false}, {\"text\": \"keyboard\", \"x\": 4, \"y\": 5, \"xref\": \"x1\", \"yref\": \"y1\", \"font\": {\"color\": \"#3c3636\"}, \"showarrow\": false}, {\"text\": \"cell phone\", \"x\": 5, \"y\": 5, \"xref\": \"x1\", \"yref\": \"y1\", \"font\": {\"color\": \"#3c3636\"}, \"showarrow\": false}, {\"text\": \"umbrella\", \"x\": 6, \"y\": 5, \"xref\": \"x1\", \"yref\": \"y1\", \"font\": {\"color\": \"#3c3636\"}, \"showarrow\": false}, {\"text\": \"person\", \"x\": 0, \"y\": 6, \"xref\": \"x1\", \"yref\": \"y1\", \"font\": {\"color\": \"#efecee\"}, \"showarrow\": false}, {\"text\": \"tv\", \"x\": 1, \"y\": 6, \"xref\": \"x1\", \"yref\": \"y1\", \"font\": {\"color\": \"#3c3636\"}, \"showarrow\": false}, {\"text\": \"airplane\", \"x\": 2, \"y\": 6, \"xref\": \"x1\", \"yref\": \"y1\", \"font\": {\"color\": \"#3c3636\"}, \"showarrow\": false}, {\"text\": \"dog\", \"x\": 3, \"y\": 6, \"xref\": \"x1\", \"yref\": \"y1\", \"font\": {\"color\": \"#3c3636\"}, \"showarrow\": false}, {\"text\": \"tie\", \"x\": 4, \"y\": 6, \"xref\": \"x1\", \"yref\": \"y1\", \"font\": {\"color\": \"#3c3636\"}, \"showarrow\": false}, {\"text\": \"bus\", \"x\": 5, \"y\": 6, \"xref\": \"x1\", \"yref\": \"y1\", \"font\": {\"color\": \"#3c3636\"}, \"showarrow\": false}, {\"text\": \"car\", \"x\": 6, \"y\": 6, \"xref\": \"x1\", \"yref\": \"y1\", \"font\": {\"color\": \"#3c3636\"}, \"showarrow\": false}], \"xaxis\": {\"ticks\": \"\", \"side\": \"top\", \"gridcolor\": \"rgb(0, 0, 0)\", \"showticklabels\": false}, \"yaxis\": {\"ticks\": \"\", \"ticksuffix\": \"  \", \"showticklabels\": false}, \"title\": \"Confidence Heatmap\"}, {\"showLink\": true, \"linkText\": \"Export to plot.ly\"})});</script>"
      ]
     },
     "metadata": {},
     "output_type": "display_data"
    }
   ],
   "source": [
    "import plotly.offline as py\n",
    "import plotly\n",
    "import plotly.graph_objs as go\n",
    "import plotly.figure_factory as ff\n",
    "\n",
    "plotly.offline.init_notebook_mode(connected=True)\n",
    "\n",
    "reshaped_flip = np.flip(reshaped, axis=0)\n",
    "\n",
    "mat = np.random.rand(7,7)\n",
    "mat[6,6] = 0\n",
    "mat[5,6] = 0.05\n",
    "mat[4,6] = 0.2\n",
    "mat[3,6] = 0.4\n",
    "mat[2,6] = 0.6\n",
    "mat[1,6] = 0.8\n",
    "mat[0,6] = 1\n",
    "\n",
    "colorscale = [[0, '#ffffff'], [1, '#f71111']]\n",
    "font_colors = ['#3c3636', '#efecee']\n",
    "\n",
    "hover_text = mat * 100\n",
    "mat = np.flip(score_matrix, axis=0)\n",
    "\n",
    "pt = ff.create_annotated_heatmap(\n",
    "    mat, \n",
    "    annotation_text=reshaped_flip, \n",
    "    colorscale=colorscale, \n",
    "    font_colors=font_colors,\n",
    "    hoverinfo='text',\n",
    "    text=hover_text\n",
    ")\n",
    "pt.layout.title = 'Confidence Heatmap'\n",
    "\n",
    "py.iplot(pt, filename='annotated_heatmap_text')"
   ]
  },
  {
   "cell_type": "code",
   "execution_count": 188,
   "metadata": {},
   "outputs": [
    {
     "data": {
      "text/html": [
       "<div>\n",
       "<style>\n",
       "    .dataframe thead tr:only-child th {\n",
       "        text-align: right;\n",
       "    }\n",
       "\n",
       "    .dataframe thead th {\n",
       "        text-align: left;\n",
       "    }\n",
       "\n",
       "    .dataframe tbody tr th {\n",
       "        vertical-align: top;\n",
       "    }\n",
       "</style>\n",
       "<table border=\"1\" class=\"dataframe\">\n",
       "  <thead>\n",
       "    <tr style=\"text-align: right;\">\n",
       "      <th></th>\n",
       "      <th>frame</th>\n",
       "      <th>y</th>\n",
       "      <th>x</th>\n",
       "      <th>bottom</th>\n",
       "      <th>right</th>\n",
       "      <th>class</th>\n",
       "      <th>class_str</th>\n",
       "      <th>score</th>\n",
       "    </tr>\n",
       "  </thead>\n",
       "  <tbody>\n",
       "    <tr>\n",
       "      <th>62</th>\n",
       "      <td>12</td>\n",
       "      <td>0.473720</td>\n",
       "      <td>0.511571</td>\n",
       "      <td>0.866375</td>\n",
       "      <td>0.652099</td>\n",
       "      <td>1</td>\n",
       "      <td>person</td>\n",
       "      <td>0.684255</td>\n",
       "    </tr>\n",
       "    <tr>\n",
       "      <th>63</th>\n",
       "      <td>12</td>\n",
       "      <td>0.374453</td>\n",
       "      <td>0.843229</td>\n",
       "      <td>0.894326</td>\n",
       "      <td>1.000000</td>\n",
       "      <td>1</td>\n",
       "      <td>person</td>\n",
       "      <td>0.371186</td>\n",
       "    </tr>\n",
       "    <tr>\n",
       "      <th>64</th>\n",
       "      <td>12</td>\n",
       "      <td>0.342970</td>\n",
       "      <td>0.145969</td>\n",
       "      <td>0.859305</td>\n",
       "      <td>0.348043</td>\n",
       "      <td>1</td>\n",
       "      <td>person</td>\n",
       "      <td>0.287501</td>\n",
       "    </tr>\n",
       "    <tr>\n",
       "      <th>65</th>\n",
       "      <td>12</td>\n",
       "      <td>0.349052</td>\n",
       "      <td>0.146684</td>\n",
       "      <td>0.860126</td>\n",
       "      <td>0.345049</td>\n",
       "      <td>35</td>\n",
       "      <td>skis</td>\n",
       "      <td>0.274220</td>\n",
       "    </tr>\n",
       "    <tr>\n",
       "      <th>66</th>\n",
       "      <td>12</td>\n",
       "      <td>0.210370</td>\n",
       "      <td>0.005096</td>\n",
       "      <td>0.486521</td>\n",
       "      <td>0.080487</td>\n",
       "      <td>1</td>\n",
       "      <td>person</td>\n",
       "      <td>0.223510</td>\n",
       "    </tr>\n",
       "    <tr>\n",
       "      <th>67</th>\n",
       "      <td>12</td>\n",
       "      <td>0.348290</td>\n",
       "      <td>0.180728</td>\n",
       "      <td>0.758424</td>\n",
       "      <td>0.313371</td>\n",
       "      <td>35</td>\n",
       "      <td>skis</td>\n",
       "      <td>0.213987</td>\n",
       "    </tr>\n",
       "    <tr>\n",
       "      <th>68</th>\n",
       "      <td>12</td>\n",
       "      <td>0.362823</td>\n",
       "      <td>0.141877</td>\n",
       "      <td>0.860740</td>\n",
       "      <td>0.356476</td>\n",
       "      <td>18</td>\n",
       "      <td>dog</td>\n",
       "      <td>0.213713</td>\n",
       "    </tr>\n",
       "  </tbody>\n",
       "</table>\n",
       "</div>"
      ],
      "text/plain": [
       "    frame         y         x    bottom     right  class class_str     score\n",
       "62     12  0.473720  0.511571  0.866375  0.652099      1    person  0.684255\n",
       "63     12  0.374453  0.843229  0.894326  1.000000      1    person  0.371186\n",
       "64     12  0.342970  0.145969  0.859305  0.348043      1    person  0.287501\n",
       "65     12  0.349052  0.146684  0.860126  0.345049     35      skis  0.274220\n",
       "66     12  0.210370  0.005096  0.486521  0.080487      1    person  0.223510\n",
       "67     12  0.348290  0.180728  0.758424  0.313371     35      skis  0.213987\n",
       "68     12  0.362823  0.141877  0.860740  0.356476     18       dog  0.213713"
      ]
     },
     "execution_count": 188,
     "metadata": {},
     "output_type": "execute_result"
    }
   ],
   "source": [
    "current_frame = 12\n",
    "\n",
    "frame_df = df[df[\"frame\"] == current_frame]\n",
    "frame_df"
   ]
  },
  {
   "cell_type": "code",
   "execution_count": 220,
   "metadata": {},
   "outputs": [
    {
     "data": {
      "text/plain": [
       "score    0.684255\n",
       "Name: person, dtype: float64"
      ]
     },
     "execution_count": 220,
     "metadata": {},
     "output_type": "execute_result"
    }
   ],
   "source": [
    "frame_no_dup = frame_df[[\"class_str\", \"score\"]].drop_duplicates(\"class_str\")\n",
    "frame_no_dup.set_index(\"class_str\", inplace=True)\n",
    "\n",
    "frame_no_dup.loc[\"person\"]"
   ]
  },
  {
   "cell_type": "code",
   "execution_count": 204,
   "metadata": {
    "scrolled": true
   },
   "outputs": [
    {
     "data": {
      "text/plain": [
       "3"
      ]
     },
     "execution_count": 204,
     "metadata": {},
     "output_type": "execute_result"
    }
   ],
   "source": [
    "frame_no_dup.shape[0]"
   ]
  },
  {
   "cell_type": "code",
   "execution_count": 232,
   "metadata": {},
   "outputs": [],
   "source": [
    "score_list = []\n",
    "\n",
    "for el in padded:\n",
    "    if el in frame_no_dup.index.values:\n",
    "        score_list.append(frame_no_dup.loc[el][0])\n",
    "    else:\n",
    "        score_list.append(0)"
   ]
  },
  {
   "cell_type": "code",
   "execution_count": 234,
   "metadata": {
    "scrolled": true
   },
   "outputs": [],
   "source": [
    "score_matrix = np.reshape(score_list, (-1, 7))"
   ]
  },
  {
   "cell_type": "code",
   "execution_count": 212,
   "metadata": {},
   "outputs": [],
   "source": [
    "classes_list = df[\"class_str\"].value_counts().index.tolist()\n",
    "n_classes = len(classes_list)\n",
    "\n",
    "# Gets the smallest value needed to add to the end of the classes list to get a square matrix\n",
    "root_round = round(np.sqrt(len(classes_list)))\n",
    "total_size = root_round ** 2\n",
    "padding_value = int(total_size - n_classes)\n",
    "padded = np.pad(classes_list, (0, padding_value), mode='constant')\n",
    "\n",
    "# The padded matrix containing all the classes inside a matrix\n",
    "classes_matrix = np.reshape(padded, (int(root_round), int(root_round)))"
   ]
  },
  {
   "cell_type": "code",
   "execution_count": null,
   "metadata": {},
   "outputs": [],
   "source": []
  }
 ],
 "metadata": {
  "kernelspec": {
   "display_name": "Python 3",
   "language": "python",
   "name": "python3"
  },
  "language_info": {
   "codemirror_mode": {
    "name": "ipython",
    "version": 3
   },
   "file_extension": ".py",
   "mimetype": "text/x-python",
   "name": "python",
   "nbconvert_exporter": "python",
   "pygments_lexer": "ipython3",
   "version": "3.6.3"
  }
 },
 "nbformat": 4,
 "nbformat_minor": 2
}
